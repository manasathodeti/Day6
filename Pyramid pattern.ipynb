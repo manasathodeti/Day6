{
 "cells": [
  {
   "cell_type": "code",
   "execution_count": null,
   "id": "e5f1f643-8863-4e2a-8671-5d5ca1c5b832",
   "metadata": {},
   "outputs": [],
   "source": [
    "n=int(input(\"Enter the size\"))\n",
    "for i  in range(n+1):\n",
    "    for j in range(n-i):\n",
    "        print(' ',end=' ')\n",
    "    for k in range(2*i-1):\n",
    "        print(\"* \",end=\" \")\n",
    "    print()\n",
    "\n",
    "        "
   ]
  }
 ],
 "metadata": {
  "kernelspec": {
   "display_name": "Python 3 (ipykernel)",
   "language": "python",
   "name": "python3"
  },
  "language_info": {
   "codemirror_mode": {
    "name": "ipython",
    "version": 3
   },
   "file_extension": ".py",
   "mimetype": "text/x-python",
   "name": "python",
   "nbconvert_exporter": "python",
   "pygments_lexer": "ipython3",
   "version": "3.12.7"
  }
 },
 "nbformat": 4,
 "nbformat_minor": 5
}
